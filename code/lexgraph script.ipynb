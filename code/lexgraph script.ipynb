{
 "cells": [
  {
   "cell_type": "code",
   "execution_count": 1,
   "id": "30711b43",
   "metadata": {},
   "outputs": [],
   "source": [
    "import pandas as pd\n",
    "import numpy as np\n",
    "import csv\n",
    "import matplotlib.pyplot as plt\n",
    "import seaborn as sns"
   ]
  },
  {
   "cell_type": "markdown",
   "id": "696bb4d3",
   "metadata": {},
   "source": [
    "## Part 1:\n",
    "create a code to extract the A, B, C values of any sequence and use them to calculate the associated indexes."
   ]
  },
  {
   "cell_type": "markdown",
   "id": "b8fdb216",
   "metadata": {},
   "source": [
    "I am working on the content presented in **Lexographic index equations.docx** script, which requires for some equations to be turned into python code."
   ]
  },
  {
   "cell_type": "code",
   "execution_count": 2,
   "id": "38e3d381",
   "metadata": {},
   "outputs": [],
   "source": [
    "def A(lista):\n",
    "    A_v = []\n",
    "    for i in range(len(lista)):\n",
    "        if lista[i] != 0 and lista[i]!=\"0\":      #not empty\n",
    "            A_v.append(i+1)\n",
    "    return A_v\n",
    "\n",
    "def B(lista):\n",
    "    B_v = []\n",
    "    i = 0\n",
    "    while i < len(lista):\n",
    "        if lista[i] != 0 and lista[i]!=\"0\":      #not empty\n",
    "            j = i + 1\n",
    "            while j < len(lista) and (lista[j] == 0 or lista[j]==\"0\"):\n",
    "                lista[j], lista[j - 1] = lista[j - 1], lista[j]\n",
    "                j += 1\n",
    "\n",
    "            B_v.append(j)\n",
    "            i = j\n",
    "        else:\n",
    "            i += 1\n",
    "\n",
    "    return B_v\n",
    "\n",
    "def C(lista):\n",
    "    C_v = []\n",
    "\n",
    "    for i in range(len(lista)):\n",
    "        if lista[i] != 0 and lista[i]!=\"0\":    #not empty\n",
    "            j = i - 1\n",
    "            while j >= 0 and (lista[j] == 0 or lista[j]==\"0\"):\n",
    "                lista[j], lista[j + 1] = lista[j + 1], lista[j]\n",
    "                j -= 1\n",
    "\n",
    "            C_v.append(j + 2)\n",
    "\n",
    "    return C_v"
   ]
  },
  {
   "cell_type": "code",
   "execution_count": 3,
   "id": "c3f76cdb",
   "metadata": {},
   "outputs": [],
   "source": [
    "#After I define functions to compute A, B, C, I use all of them together.\n",
    "\n",
    "def parameters(data):\n",
    "    with open(data) as file:\n",
    "        heading = next(file)\n",
    "        reader = csv.reader(file)\n",
    "        A_v = list()\n",
    "        B_v = list()\n",
    "        C_v = list()\n",
    "        data = []                \n",
    "            \n",
    "        for row in reader:\n",
    "            data.append(row)\n",
    "            A_r = A(row)\n",
    "            A_v.append(A_r)\n",
    "            B_r = B(row)\n",
    "            B_v.append(B_r)\n",
    "            C_r = C(row)\n",
    "            C_v.append(C_r)               \n",
    "    return A_v, B_v, C_v, data\n",
    "            "
   ]
  },
  {
   "cell_type": "code",
   "execution_count": 4,
   "id": "ccecdeb9",
   "metadata": {},
   "outputs": [],
   "source": [
    "#Some sequences to work on.\n",
    "test_data = \"data for test.csv\"\n",
    "\n",
    "ABC = parameters(test_data)\n",
    "A_score, B_score, C_score, data = ABC"
   ]
  },
  {
   "cell_type": "code",
   "execution_count": 6,
   "id": "fb7d0956",
   "metadata": {},
   "outputs": [],
   "source": [
    "#We need to define a function to obtain the factorial of a number.\n",
    "def factorial(n):\n",
    "    result = 1\n",
    "    for i in range(2, n + 1):\n",
    "        result *= i\n",
    "    return result"
   ]
  },
  {
   "cell_type": "code",
   "execution_count": 7,
   "id": "2966b235",
   "metadata": {},
   "outputs": [],
   "source": [
    "def first_index(A,B,C, length):\n",
    "    index_1 = []\n",
    "    for a in A:        #A,B,C always have the same length.\n",
    "        if a !=[]:\n",
    "            ind = 1   #1 + T!/e_0!\n",
    "            pos = A.index(a)      #unlike B and C, A is always different meaning positions aren't ambiguous\n",
    "            ind -= factorial(B[pos][len(a)-1])/(factorial(C[pos][len(a)-1])*factorial(B[pos][len(a)-1]-C[pos][len(a)-1]))\n",
    "            diff = 0\n",
    "            for i in range(len(a)):\n",
    "                ind += factorial(length)/(factorial(i+1)*factorial(length-(i+1)))\n",
    "                diff = factorial(B[pos][i])/(factorial(C[pos][i])*factorial(B[pos][i]-C[pos][i])) - factorial(A[pos][i])/(factorial(C[pos][i])*factorial(A[pos][i]-C[pos][i]))\n",
    "                \n",
    "                ind += diff\n",
    "        else:\n",
    "            ind = 0\n",
    "        index_1.append(ind)\n",
    "    return index_1"
   ]
  },
  {
   "cell_type": "code",
   "execution_count": 9,
   "id": "82488648",
   "metadata": {},
   "outputs": [],
   "source": [
    "def second_index(A,B,C, length):\n",
    "    index_2 = []\n",
    "    for a in A:\n",
    "        if a !=[]:\n",
    "            pos = A.index(a)\n",
    "            ind = 1+ (factorial(length)/(factorial(len(a))*factorial(length-len(a)))) - (factorial(B[pos][len(a)-1])/(factorial(C[pos][len(a)-1])*factorial(B[pos][len(a)-1]-C[pos][len(a)-1])))\n",
    "            for i in range(len(a)):\n",
    "                diff = factorial(B[pos][i])/(factorial(C[pos][i])*factorial(B[pos][i]-C[pos][i])) - factorial(A[pos][i])/(factorial(C[pos][i])*factorial(A[pos][i]-C[pos][i]))\n",
    "                ind += diff\n",
    "            \n",
    "            ind /= (factorial(length)/(factorial(len(a))*factorial(length-len(a))))    \n",
    "            ind += 2*len(a)-1\n",
    "            ind = round(ind,5)\n",
    "\n",
    "        else:\n",
    "            ind = 0\n",
    "        index_2.append(ind)\n",
    "    return index_2      "
   ]
  },
  {
   "cell_type": "code",
   "execution_count": 10,
   "id": "fc8f60b6",
   "metadata": {},
   "outputs": [],
   "source": [
    "second_index2 = second_index(A_score, B_score, C_score, 4)"
   ]
  },
  {
   "cell_type": "code",
   "execution_count": 12,
   "id": "a4487b2b",
   "metadata": {},
   "outputs": [],
   "source": [
    "def third_index(A,B,C, length):\n",
    "    ratios = []\n",
    "    index_3a = []\n",
    "    index_3b = []\n",
    "    for a in A:\n",
    "        ind_a = round((len(a)/length),5)\n",
    "        index_3a.append(ind_a)\n",
    "        pos = A.index(a)\n",
    "        if a!=[]:\n",
    "            ind = 1+ (factorial(length)/(factorial(len(a))*factorial(length-len(a)))) - (factorial(B[pos][len(a)-1])/(factorial(C[pos][len(a)-1])*factorial(B[pos][len(a)-1]-C[pos][len(a)-1])))\n",
    "            for i in range(len(a)):\n",
    "                diff = factorial(B[pos][i])/(factorial(C[pos][i])*factorial(B[pos][i]-C[pos][i])) - factorial(A[pos][i])/(factorial(C[pos][i])*factorial(A[pos][i]-C[pos][i]))\n",
    "                ind += diff\n",
    "                \n",
    "            ind /= (factorial(length)/(factorial(len(a))*factorial(length-len(a))))+1\n",
    "            ind = round(ind,5)\n",
    "        else:\n",
    "            ind = factorial(length)/(factorial(len(a))*factorial(length-len(a))) / (factorial(length)/(factorial(len(a))*factorial(length-len(a)))+1)\n",
    "        index_3b.append(ind)        \n",
    "        \n",
    "    return index_3a, index_3b"
   ]
  },
  {
   "cell_type": "code",
   "execution_count": 13,
   "id": "cb405182",
   "metadata": {
    "scrolled": true
   },
   "outputs": [],
   "source": [
    "third_indexA, third_indexB = third_index(A_score, B_score, C_score,4)"
   ]
  },
  {
   "cell_type": "code",
   "execution_count": 14,
   "id": "f347e898",
   "metadata": {},
   "outputs": [],
   "source": [
    "#For better visualization each sequence is turned from a list of characters to a string of length 4.\n",
    "sequences_r = []\n",
    "for i in data:\n",
    "    j = \"\".join(i)\n",
    "    sequences_r.append(j)"
   ]
  },
  {
   "cell_type": "code",
   "execution_count": 15,
   "id": "e4736d68",
   "metadata": {},
   "outputs": [],
   "source": [
    "#Create a csv containing the sequences, A, B, C, index_1, index_2, index_3a, index_3b\n",
    "index = pd.DataFrame({'Data':sequences_r, \"A\":A_score, \"B\": B_score, \"C\": C_score, \"Index_1\": first_index1,\n",
    "                     \"Index_2\": second_index2, \"Index_3A\":third_indexA, \"Index_3B\":third_indexB})\n",
    "\n",
    "\n",
    "index.to_csv(\"index.csv\", header=True)"
   ]
  },
  {
   "cell_type": "code",
   "execution_count": 17,
   "id": "90593304",
   "metadata": {},
   "outputs": [
    {
     "data": {
      "text/plain": [
       "Text(0, 0.5, \"d'\")"
      ]
     },
     "execution_count": 17,
     "metadata": {},
     "output_type": "execute_result"
    },
    {
     "data": {
      "image/png": "[encoded data removed]",
      "text/plain": [
       "<Figure size 432x288 with 1 Axes>"
      ]
     },
     "metadata": {
      "needs_background": "light"
     },
     "output_type": "display_data"
    }
   ],
   "source": [
    "## Simple plot\n",
    "sns.scatterplot(data=index, x=index.Index_3B, y=index.Index_3A)\n",
    "plt.title(\"Spatial distribution of sequences\")\n",
    "plt.xlabel(\"d''\")\n",
    "plt.ylabel(\"d'\")"
   ]
  },
  {
   "cell_type": "code",
   "execution_count": 39,
   "id": "286a7970",
   "metadata": {},
   "outputs": [
    {
     "data": {
      "image/png": "[encoded data removed]",
      "text/plain": [
       "<Figure size 720x360 with 1 Axes>"
      ]
     },
     "metadata": {
      "needs_background": "light"
     },
     "output_type": "display_data"
    }
   ],
   "source": [
    "#Plot with labels\n",
    "plt.figure(figsize=(10,5)) \n",
    "\n",
    "x_axis = [i+0 for i in index.Index_3B]                                 #replace 0 with valuue to change position on x-axis.\n",
    "p1 = sns.scatterplot(data=index, x=x_axis, y=index.Index_3A,\n",
    "                    legend=False, hue=index.Index_3A, palette=\"hls\") #hue and palette are optional\n",
    "\n",
    "plt.title(\"Spatial distribution of sequences\")\n",
    "plt.xlabel(\"d''\")\n",
    "plt.ylabel(\"d'\")\n",
    "\n",
    "for line in range(0,index.shape[0]):          #Dataset's length\n",
    "     p1.text(index.Index_3B[line]+0+0.01, index.Index_3A[line],       #also need to change the value of 0 here.\n",
    "     index.Data[line], horizontalalignment='left', \n",
    "     size='medium', color='black', weight='semibold')\n",
    "\n",
    "plt.savefig(\"Index visualization.png\", transparent=True)"
   ]
  },
  {
   "cell_type": "markdown",
   "id": "cc3e3370",
   "metadata": {},
   "source": [
    "## Part 2 \n",
    "Now, generalize the algorithm to make it work for more sequences."
   ]
  },
  {
   "cell_type": "code",
   "execution_count": 148,
   "id": "f041d29d",
   "metadata": {},
   "outputs": [],
   "source": [
    "#Define a function to separate lists based on the values (1,2,3,...)\n",
    "def separator(n,data):\n",
    "    lists = []\n",
    "    new_data = [x for xs in data for x in xs]         #Transform a list of lists into a single list.\n",
    "    new_data = list(set(new_data))                    #Only return a list of all its different values.\n",
    "    \n",
    "    for row in data:\n",
    "        lista = [[0]*len(row) for i in range(n+1)]\n",
    "        for i in range(len(row)):\n",
    "            lista[new_data.index(row[i])][i] = row[i]\n",
    "        \n",
    "        lista.pop(0)                   #Remove the first list which only contains zero.\n",
    "        lists.append(lista)\n",
    "    return lists"
   ]
  },
  {
   "cell_type": "markdown",
   "id": "b1bc1736",
   "metadata": {},
   "source": [
    "FIrst, turn a list of lists into a single list; then, obtain the set of different values; \n",
    "afterward, for each item in the set create a dictionary key.\n",
    "The separator function should create N lists (where N is the number of keys), each having the corresponding key put in the proper positions.\n"
   ]
  },
  {
   "cell_type": "code",
   "execution_count": 189,
   "id": "5418b774",
   "metadata": {},
   "outputs": [],
   "source": [
    "def lexgraph(n, data):\n",
    "    newdata = separator(n,data)\n",
    "    length=len(newdata[0])          #Value to get A,B,C\n",
    "    As = []\n",
    "    Bs = []\n",
    "    Cs = []\n",
    "    indexes_3a = [[] for _ in range(length)]\n",
    "    indexes_3b = [[] for _ in range(length)] \n",
    "    data_r = []                    #The separated lists all joined in a single one, to be turned in a column.\n",
    "    for row in newdata:\n",
    "        for item in row:\n",
    "            data_r.append(list(item))\n",
    "            A_v = A(item)\n",
    "            B_v = B(item)\n",
    "            C_v = C(item)\n",
    "            As.append(A_v)\n",
    "            Bs.append(B_v)\n",
    "            Cs.append(C_v)\n",
    "\n",
    "    third_index_A, third_index_B = third_index(As,Bs,Cs, len(data[0]))    #List of all values. \n",
    "    Database = pd.DataFrame({'Data':data})\n",
    "\n",
    "    for i in range(length):\n",
    "        indexes_3a[i] = third_index_A[i::length]\n",
    "        indexes_3b[i] = third_index_B[i::length]\n",
    "        Database[str(i+1)+\"A\"] = indexes_3a[i] \n",
    "        Database[str(i+1)+\"B\"] = indexes_3b[i]\n",
    "    \n",
    "    return Database"
   ]
  },
  {
   "cell_type": "code",
   "execution_count": 190,
   "id": "cb6248ba",
   "metadata": {},
   "outputs": [
    {
     "data": {
      "text/html": [
       "<div>\n",
       "<style scoped>\n",
       "    .dataframe tbody tr th:only-of-type {\n",
       "        vertical-align: middle;\n",
       "    }\n",
       "\n",
       "    .dataframe tbody tr th {\n",
       "        vertical-align: top;\n",
       "    }\n",
       "\n",
       "    .dataframe thead th {\n",
       "        text-align: right;\n",
       "    }\n",
       "</style>\n",
       "<table border=\"1\" class=\"dataframe\">\n",
       "  <thead>\n",
       "    <tr style=\"text-align: right;\">\n",
       "      <th></th>\n",
       "      <th>Data</th>\n",
       "      <th>1A</th>\n",
       "      <th>1B</th>\n",
       "      <th>2A</th>\n",
       "      <th>2B</th>\n",
       "    </tr>\n",
       "  </thead>\n",
       "  <tbody>\n",
       "    <tr>\n",
       "      <th>0</th>\n",
       "      <td>[0, 1, 1, 2, 1, 2]</td>\n",
       "      <td>0.500</td>\n",
       "      <td>0.667</td>\n",
       "      <td>0.333</td>\n",
       "      <td>0.125</td>\n",
       "    </tr>\n",
       "    <tr>\n",
       "      <th>1</th>\n",
       "      <td>[0, 1, 2, 2, 0, 1]</td>\n",
       "      <td>0.333</td>\n",
       "      <td>0.250</td>\n",
       "      <td>0.333</td>\n",
       "      <td>0.625</td>\n",
       "    </tr>\n",
       "    <tr>\n",
       "      <th>2</th>\n",
       "      <td>[0, 2, 1, 1, 1, 2]</td>\n",
       "      <td>0.500</td>\n",
       "      <td>0.524</td>\n",
       "      <td>0.333</td>\n",
       "      <td>0.250</td>\n",
       "    </tr>\n",
       "    <tr>\n",
       "      <th>3</th>\n",
       "      <td>[0, 1, 1, 2, 1, 0]</td>\n",
       "      <td>0.500</td>\n",
       "      <td>0.667</td>\n",
       "      <td>0.167</td>\n",
       "      <td>0.429</td>\n",
       "    </tr>\n",
       "    <tr>\n",
       "      <th>4</th>\n",
       "      <td>[0, 0, 1, 2, 0, 2]</td>\n",
       "      <td>0.167</td>\n",
       "      <td>0.571</td>\n",
       "      <td>0.333</td>\n",
       "      <td>0.125</td>\n",
       "    </tr>\n",
       "  </tbody>\n",
       "</table>\n",
       "</div>"
      ],
      "text/plain": [
       "                 Data     1A     1B     2A     2B\n",
       "0  [0, 1, 1, 2, 1, 2]  0.500  0.667  0.333  0.125\n",
       "1  [0, 1, 2, 2, 0, 1]  0.333  0.250  0.333  0.625\n",
       "2  [0, 2, 1, 1, 1, 2]  0.500  0.524  0.333  0.250\n",
       "3  [0, 1, 1, 2, 1, 0]  0.500  0.667  0.167  0.429\n",
       "4  [0, 0, 1, 2, 0, 2]  0.167  0.571  0.333  0.125"
      ]
     },
     "execution_count": 190,
     "metadata": {},
     "output_type": "execute_result"
    }
   ],
   "source": [
    "database = [[0,1,1,2,1,2],\n",
    "            [0,1,2,2,0,1],\n",
    "            [0,2,1,1,1,2],\n",
    "            [0,1,1,2,1,0],\n",
    "            [0,0,1,2,0,2]]\n",
    "\n",
    "lexgraph(2, database)"
   ]
  },
  {
   "cell_type": "code",
   "execution_count": 25,
   "id": "d6104146",
   "metadata": {
    "scrolled": true
   },
   "outputs": [],
   "source": [
    "#Now, however, we need to make it work for a sequence of any length.\n",
    "#New testing data\n",
    "Data = pd.read_stata(\"clu_cosa1_patrick.dta\")"
   ]
  },
  {
   "cell_type": "code",
   "execution_count": null,
   "id": "4be23fc9",
   "metadata": {},
   "outputs": [],
   "source": [
    "Data.columns"
   ]
  },
  {
   "cell_type": "code",
   "execution_count": null,
   "id": "9de2d869",
   "metadata": {},
   "outputs": [],
   "source": [
    "#We need to see how many different categories there are.\n",
    "Data.cosa10.unique()\n"
   ]
  },
  {
   "cell_type": "code",
   "execution_count": 127,
   "id": "e202cdb7",
   "metadata": {},
   "outputs": [],
   "source": [
    "#We take all cosa columns and turn them into a sequence.\n",
    "Values = []\n",
    "for index,row in Data.iterrows():\n",
    "    cose = list(Data.iloc[index,3:51].values)\n",
    "    Values.append(cose)\n",
    "#Values"
   ]
  },
  {
   "cell_type": "code",
   "execution_count": 159,
   "id": "0870bcfd",
   "metadata": {},
   "outputs": [
    {
     "data": {
      "text/plain": [
       "Index(['idx', 'day', 'GG1', 'cosa1', 'cosa2', 'cosa3', 'cosa4', 'cosa5',\n",
       "       'cosa6', 'cosa7', 'cosa8', 'cosa9', 'cosa10', 'cosa11', 'cosa12',\n",
       "       'cosa13', 'cosa14', 'cosa15', 'cosa16', 'cosa17', 'cosa18', 'cosa19',\n",
       "       'cosa20', 'cosa21', 'cosa22', 'cosa23', 'cosa24', 'cosa25', 'cosa26',\n",
       "       'cosa27', 'cosa28', 'cosa29', 'cosa30', 'cosa31', 'cosa32', 'cosa33',\n",
       "       'cosa34', 'cosa35', 'cosa36', 'cosa37', 'cosa38', 'cosa39', 'cosa40',\n",
       "       'cosa41', 'cosa42', 'cosa43', 'cosa44', 'cosa45', 'cosa46', 'cosa47',\n",
       "       'cosa48', 'tx', 'k1a', 'k1b', 'k2a', 'k2b', 'k3a', 'k3b', 'k4a', 'k4b',\n",
       "       'k5a', 'k5b', 'k6a', 'k6b', 'k7a', 'k7b', 'k8a', 'k8b'],\n",
       "      dtype='object')"
      ]
     },
     "execution_count": 159,
     "metadata": {},
     "output_type": "execute_result"
    }
   ],
   "source": [
    "Data.columns"
   ]
  },
  {
   "cell_type": "code",
   "execution_count": 191,
   "id": "3a429fe1",
   "metadata": {},
   "outputs": [],
   "source": [
    "lexgraph_output = lexgraph(8, Values)\n",
    "lexgraph_output.to_csv(\"results.csv\")        #To save the results"
   ]
  }
 ],
 "metadata": {
  "kernelspec": {
   "display_name": "Python 3",
   "language": "python",
   "name": "python3"
  },
  "language_info": {
   "codemirror_mode": {
    "name": "ipython",
    "version": 3
   },
   "file_extension": ".py",
   "mimetype": "text/x-python",
   "name": "python",
   "nbconvert_exporter": "python",
   "pygments_lexer": "ipython3",
   "version": "3.8.8"
  }
 },
 "nbformat": 4,
 "nbformat_minor": 5
}
